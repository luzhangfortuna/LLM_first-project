{
 "cells": [
  {
   "cell_type": "code",
   "execution_count": 1,
   "id": "a931402b-0933-4818-ada6-0f0ec256504f",
   "metadata": {
    "scrolled": true
   },
   "outputs": [
    {
     "name": "stdout",
     "output_type": "stream",
     "text": [
      "Requirement already satisfied: openai in /opt/anaconda3/lib/python3.12/site-packages (1.54.3)\n",
      "Requirement already satisfied: anyio<5,>=3.5.0 in /opt/anaconda3/lib/python3.12/site-packages (from openai) (4.2.0)\n",
      "Requirement already satisfied: distro<2,>=1.7.0 in /opt/anaconda3/lib/python3.12/site-packages (from openai) (1.9.0)\n",
      "Requirement already satisfied: httpx<1,>=0.23.0 in /opt/anaconda3/lib/python3.12/site-packages (from openai) (0.27.0)\n",
      "Requirement already satisfied: jiter<1,>=0.4.0 in /opt/anaconda3/lib/python3.12/site-packages (from openai) (0.7.0)\n",
      "Requirement already satisfied: pydantic<3,>=1.9.0 in /opt/anaconda3/lib/python3.12/site-packages (from openai) (2.8.2)\n",
      "Requirement already satisfied: sniffio in /opt/anaconda3/lib/python3.12/site-packages (from openai) (1.3.0)\n",
      "Requirement already satisfied: tqdm>4 in /opt/anaconda3/lib/python3.12/site-packages (from openai) (4.66.5)\n",
      "Requirement already satisfied: typing-extensions<5,>=4.11 in /opt/anaconda3/lib/python3.12/site-packages (from openai) (4.11.0)\n",
      "Requirement already satisfied: idna>=2.8 in /opt/anaconda3/lib/python3.12/site-packages (from anyio<5,>=3.5.0->openai) (3.7)\n",
      "Requirement already satisfied: certifi in /opt/anaconda3/lib/python3.12/site-packages (from httpx<1,>=0.23.0->openai) (2024.8.30)\n",
      "Requirement already satisfied: httpcore==1.* in /opt/anaconda3/lib/python3.12/site-packages (from httpx<1,>=0.23.0->openai) (1.0.2)\n",
      "Requirement already satisfied: h11<0.15,>=0.13 in /opt/anaconda3/lib/python3.12/site-packages (from httpcore==1.*->httpx<1,>=0.23.0->openai) (0.14.0)\n",
      "Requirement already satisfied: annotated-types>=0.4.0 in /opt/anaconda3/lib/python3.12/site-packages (from pydantic<3,>=1.9.0->openai) (0.6.0)\n",
      "Requirement already satisfied: pydantic-core==2.20.1 in /opt/anaconda3/lib/python3.12/site-packages (from pydantic<3,>=1.9.0->openai) (2.20.1)\n",
      "Note: you may need to restart the kernel to use updated packages.\n"
     ]
    }
   ],
   "source": [
    "\n",
    "pip install openai\n"
   ]
  },
  {
   "cell_type": "code",
   "execution_count": 3,
   "id": "c4533793-5ecf-4432-97af-1c5fd210d7cc",
   "metadata": {},
   "outputs": [],
   "source": [
    "import openai\n",
    "import os\n",
    "!export OPENAI_API_KEY"
   ]
  },
  {
   "cell_type": "code",
   "execution_count": 5,
   "id": "17c08f0d-f524-47b2-91ec-210fc5d263f7",
   "metadata": {},
   "outputs": [
    {
     "name": "stdout",
     "output_type": "stream",
     "text": [
      "Requirement already satisfied: python-dotenv in /opt/anaconda3/lib/python3.12/site-packages (0.21.0)\n",
      "Note: you may need to restart the kernel to use updated packages.\n"
     ]
    }
   ],
   "source": [
    "pip install python-dotenv"
   ]
  },
  {
   "cell_type": "code",
   "execution_count": 7,
   "id": "1f06a058-da43-4a22-86ab-4da1a3ca0b12",
   "metadata": {},
   "outputs": [
    {
     "name": "stdout",
     "output_type": "stream",
     "text": [
      "API Key loaded successfully!\n"
     ]
    }
   ],
   "source": [
    "from dotenv import load_dotenv\n",
    "import os\n",
    "\n",
    "# Load the environment variables from the specified .env file (key.env)\n",
    "load_dotenv(\"key.env\")\n",
    "\n",
    "# Get the OpenAI API key from the environment\n",
    "api_key = os.getenv(\"OPENAI_API_KEY\")\n",
    "\n",
    "# Check if the key was loaded correctly\n",
    "if api_key:\n",
    "    print(\"API Key loaded successfully!\")\n",
    "else:\n",
    "    print(\"API Key not found!\")"
   ]
  },
  {
   "cell_type": "code",
   "execution_count": 9,
   "id": "8a1036ce-d149-4942-b082-2d9cd314fcea",
   "metadata": {},
   "outputs": [],
   "source": [
    "from openai import AsyncOpenAI\n",
    "import asyncio\n",
    "from datetime import datetime\n",
    "\n",
    "client = AsyncOpenAI()"
   ]
  },
  {
   "cell_type": "code",
   "execution_count": 11,
   "id": "b6c8c6e7-87ac-4b55-b4ec-4a480443c257",
   "metadata": {},
   "outputs": [],
   "source": [
    "# Construct the system prompt\n",
    "system_prompt_template = \"\"\" Today is {today}. \n",
    "You are Luna, a virtual market researcher specializing in the furniture industry, created by LU. Today is {today}.  \n",
    "Your expertise lies in analyzing market trends, mergers and acquisitions (M&A) activities, and providing insights into strategic opportunities within the furniture sector.  \n",
    "\n",
    "You deliver responses that are professional, concise, and backed by relevant data. Your tone reflects a deep understanding of industry dynamics, emphasizing clarity and practicality. Answer each question truthfully to the best of your abilities based on the provided information, focusing on:  \n",
    "\n",
    "- Market trends and growth opportunities.  \n",
    "- M&A activities, including key players, motivations, and outcomes.  \n",
    "- Strategic insights derived from market data and case studies.  \n",
    "- Competitive landscape analysis within the furniture industry.  \n",
    "- Potential risks and opportunities linked to M&A transactions.  \n",
    "\n",
    "Structure your responses as follows:  \n",
    "1. Brief summary of the key point(s).  \n",
    "2. Detailed insights presented in bullet points, highlighting actionable recommendations or implications where applicable.  \n",
    "3. Where relevant, include examples or data points to contextualize your analysis.  \n",
    "\n",
    "Your goal is to support businesses, investors, and stakeholders in making informed decisions in the furniture industry's evolving market.  \n",
    "\n",
    "\n",
    "<context>\n",
    "{context}\n",
    "</context>\n",
    "\"\"\""
   ]
  },
  {
   "cell_type": "code",
   "execution_count": 13,
   "id": "7076c93d-ad77-430a-a925-15b645bc0128",
   "metadata": {},
   "outputs": [],
   "source": [
    "with open(\"M&A top200.txt\") as in_file:\n",
    "    context_content = in_file.read()\n",
    "\n",
    "system_prompt = system_prompt_template.format(\n",
    "    context=context_content, \n",
    "    today=datetime.today().strftime('%Y-%m-%d')\n",
    ")\n"
   ]
  },
  {
   "cell_type": "code",
   "execution_count": 15,
   "id": "b76741dd-9566-43d8-9442-f8aa2379a8e2",
   "metadata": {},
   "outputs": [],
   "source": [
    "async def chat_func(history):\n",
    "\n",
    "    result = await client.chat.completions.create(\n",
    "        model=\"gpt-4o\",\n",
    "        messages=[{\"role\": \"system\", \"content\": system_prompt}] + history,\n",
    "        max_tokens=256,\n",
    "        temperature=0.5,\n",
    "        stream=True,\n",
    "    )\n",
    "\n",
    "    buffer = \"\"\n",
    "    async for r in result:\n",
    "        next_token = r.choices[0].delta.content\n",
    "        if next_token:\n",
    "            print(next_token, flush=True, end=\"\")\n",
    "            buffer += next_token\n",
    "\n",
    "    print(\"\\n\", flush=True)\n",
    "\n",
    "    return buffer"
   ]
  },
  {
   "cell_type": "code",
   "execution_count": null,
   "id": "4316c992-39cf-478d-b8ab-3fbf683e6c83",
   "metadata": {},
   "outputs": [
    {
     "name": "stdout",
     "output_type": "stream",
     "text": [
      "Chatbot is ready! Type 'exit' to quit.\n"
     ]
    },
    {
     "name": "stdin",
     "output_type": "stream",
     "text": [
      ">  could you summarise the trend in the furniture M&A sector?\n"
     ]
    },
    {
     "name": "stdout",
     "output_type": "stream",
     "text": [
      "Thinking...\n",
      "The furniture M&A sector has exhibited a consistent trend of strategic acquisitions aimed at expanding market presence, diversifying product offerings, and enhancing competitive positioning. Key trends include:\n",
      "\n",
      "1. **Geographical Expansion and Market Entry:**\n",
      "   - Companies are acquiring businesses to enter new geographical markets or strengthen their position in existing ones. For example, Flokk's acquisition of 9to5 Seating in 2019 expanded its footprint in the US and Asia.\n",
      "\n",
      "2. **Diversification and Product Portfolio Enhancement:**\n",
      "   - Acquisitions are often driven by the desire to diversify product lines and enhance offerings. For instance, Basset Furniture's acquisition of Noa Home in 2022 allowed it to expand into online retail.\n",
      "\n",
      "3. **Vertical Integration and Supply Chain Optimization:**\n",
      "   - Some acquisitions focus on integrating supply chains and optimizing production capabilities. The acquisition of Sheridan Fabrications by Howden Joinery Group in 2022 is an example, enhancing luxury work surfaces manufacturing capabilities.\n",
      "\n",
      "4. **Strategic Partnerships and Joint Ventures:**\n",
      "   - Joint ventures and partnerships, such as the 2019 joint venture between Fabryki Mebli Forte and Indian Furniture Products, are formed to leverage local expertise and resources for mutual benefit.\n",
      "\n",
      "5. **Focus on Sustainability and Innovation:**\n",
      "\n",
      "\n"
     ]
    }
   ],
   "source": [
    "# Define the function for continuous chat interaction\n",
    "async def continuous_chat():\n",
    "    \"\"\"Function for continuous conversation.\"\"\"\n",
    "    history = []  # Initialize history for the conversation\n",
    "\n",
    "    print(\"Chatbot is ready! Type 'exit' to quit.\")\n",
    "    \n",
    "    while True:\n",
    "        # Get user input from the Jupyter notebook input\n",
    "        user_input = input(\"> \")\n",
    "\n",
    "        if user_input.lower() == \"exit\":\n",
    "            print(\"Exiting chat...\")\n",
    "            break\n",
    "\n",
    "        # Add user input to conversation history\n",
    "        history.append({\"role\": \"user\", \"content\": user_input})\n",
    "\n",
    "        # Call the function to get the bot's response\n",
    "        print(\"Thinking...\")\n",
    "        bot_response = await chat_func(history)\n",
    "\n",
    "        # Add assistant's response to history\n",
    "        history.append({\"role\": \"assistant\", \"content\": bot_response})\n",
    "\n",
    "await continuous_chat()"
   ]
  },
  {
   "cell_type": "code",
   "execution_count": null,
   "id": "a498e1be-1694-44b2-9c32-8b8b3024b319",
   "metadata": {},
   "outputs": [],
   "source": []
  },
  {
   "cell_type": "code",
   "execution_count": null,
   "id": "36795a4d-48d6-44ce-9a26-f4df651b52dd",
   "metadata": {},
   "outputs": [],
   "source": []
  },
  {
   "cell_type": "code",
   "execution_count": null,
   "id": "3fbca8f3-29da-4804-9fc5-caa63d35708a",
   "metadata": {},
   "outputs": [],
   "source": []
  }
 ],
 "metadata": {
  "kernelspec": {
   "display_name": "Python 3 (ipykernel)",
   "language": "python",
   "name": "python3"
  },
  "language_info": {
   "codemirror_mode": {
    "name": "ipython",
    "version": 3
   },
   "file_extension": ".py",
   "mimetype": "text/x-python",
   "name": "python",
   "nbconvert_exporter": "python",
   "pygments_lexer": "ipython3",
   "version": "3.12.7"
  },
  "widgets": {
   "application/vnd.jupyter.widget-state+json": {
    "state": {},
    "version_major": 2,
    "version_minor": 0
   }
  }
 },
 "nbformat": 4,
 "nbformat_minor": 5
}
